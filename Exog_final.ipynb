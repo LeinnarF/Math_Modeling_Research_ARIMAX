{
 "cells": [
  {
   "cell_type": "code",
   "execution_count": null,
   "id": "2503b0da",
   "metadata": {},
   "outputs": [],
   "source": [
    "import warnings\n",
    "warnings.filterwarnings(\"ignore\")\n",
    "from utils import *\n",
    "\n",
    "df = pd.read_csv('dataset.csv', index_col='Month', parse_dates=True,date_parser=lambda x: pd.to_datetime(x, format='%y-%b'))\n",
    "production = df['Production']\n",
    "withdrawals = df['Withdrawals']\n",
    "globalPrice = df['GlobalPrice']\n",
    "exchangeRate = df['ExchangeRate']\n",
    "temperature = df['TempMax']\n",
    "precipitation = df['Precipitation']"
   ]
  },
  {
   "cell_type": "code",
   "execution_count": null,
   "id": "90831176",
   "metadata": {},
   "outputs": [],
   "source": [
    "forecast_prod, prod_model = Forecast(production, (3,1,4), 36)"
   ]
  },
  {
   "cell_type": "code",
   "execution_count": null,
   "id": "b8f0820b",
   "metadata": {},
   "outputs": [],
   "source": [
    "forecast_with, with_model = Forecast(withdrawals, (4,1,4), 36)\n"
   ]
  },
  {
   "cell_type": "code",
   "execution_count": null,
   "id": "cb46ecd5",
   "metadata": {},
   "outputs": [],
   "source": [
    "forecast_gPrice, gP_model = Forecast(globalPrice, (2,1,3), 36)"
   ]
  },
  {
   "cell_type": "code",
   "execution_count": null,
   "id": "bb7c8189",
   "metadata": {},
   "outputs": [],
   "source": [
    "forecast_eRate, eR_model = Forecast(exchangeRate, (4,1,4), 36)"
   ]
  },
  {
   "cell_type": "code",
   "execution_count": null,
   "id": "815dd576",
   "metadata": {},
   "outputs": [],
   "source": [
    "forecast_temp, temp_model = Forecast(temperature, (3,1,4), 36)"
   ]
  },
  {
   "cell_type": "code",
   "execution_count": null,
   "id": "2fee291d",
   "metadata": {},
   "outputs": [],
   "source": [
    "forecast_rain, rain_model = Forecast(precipitation, (4,1,4), 36)"
   ]
  },
  {
   "cell_type": "code",
   "execution_count": null,
   "id": "9b781689",
   "metadata": {},
   "outputs": [],
   "source": [
    "combined_forecast = pd.DataFrame({\n",
    "    'Production': forecast_prod,\n",
    "    'Withdrawals': forecast_with,\n",
    "    'GlobalPrice': forecast_gPrice,\n",
    "    'ExchangeRate': forecast_eRate,\n",
    "    'TempMax': forecast_temp,\n",
    "    'Precipitation': forecast_rain\n",
    "})\n",
    "\n",
    "combined_forecast.to_csv('exogForecast.csv', header=True)"
   ]
  }
 ],
 "metadata": {
  "kernelspec": {
   "display_name": "Python 3",
   "language": "python",
   "name": "python3"
  },
  "language_info": {
   "codemirror_mode": {
    "name": "ipython",
    "version": 3
   },
   "file_extension": ".py",
   "mimetype": "text/x-python",
   "name": "python",
   "nbconvert_exporter": "python",
   "pygments_lexer": "ipython3",
   "version": "3.12.6"
  }
 },
 "nbformat": 4,
 "nbformat_minor": 5
}
