{
 "cells": [
  {
   "cell_type": "markdown",
   "id": "e6fc4def",
   "metadata": {},
   "source": [
    "# Time Series Forecasting using Arimax Model\n"
   ]
  },
  {
   "cell_type": "markdown",
   "id": "a55655fd",
   "metadata": {},
   "source": [
    "### Loading the Libraries and the Dataset"
   ]
  },
  {
   "cell_type": "code",
   "execution_count": 42,
   "id": "8a304238",
   "metadata": {},
   "outputs": [
    {
     "name": "stderr",
     "output_type": "stream",
     "text": [
      "C:\\Users\\Franniel\\AppData\\Local\\Temp\\ipykernel_4140\\856138283.py:6: FutureWarning: The argument 'date_parser' is deprecated and will be removed in a future version. Please use 'date_format' instead, or read your data in as 'object' dtype and then call 'to_datetime'.\n",
      "  data = pd.read_csv('dataset.csv', index_col='Month', parse_dates=True,date_parser=lambda x: pd.to_datetime(x, format='%y-%b'))\n"
     ]
    }
   ],
   "source": [
    "import pandas as pd\n",
    "%matplotlib inline \n",
    "from statsmodels.tsa.stattools import adfuller\n",
    "from statsmodels.tsa.statespace.sarimax import SARIMAX\n",
    "\n",
    "data = pd.read_csv('dataset.csv', index_col='Month', parse_dates=True,date_parser=lambda x: pd.to_datetime(x, format='%y-%b'))\n"
   ]
  },
  {
   "cell_type": "code",
   "execution_count": 43,
   "id": "a91f3305",
   "metadata": {},
   "outputs": [
    {
     "data": {
      "text/html": [
       "<div>\n",
       "<style scoped>\n",
       "    .dataframe tbody tr th:only-of-type {\n",
       "        vertical-align: middle;\n",
       "    }\n",
       "\n",
       "    .dataframe tbody tr th {\n",
       "        vertical-align: top;\n",
       "    }\n",
       "\n",
       "    .dataframe thead th {\n",
       "        text-align: right;\n",
       "    }\n",
       "</style>\n",
       "<table border=\"1\" class=\"dataframe\">\n",
       "  <thead>\n",
       "    <tr style=\"text-align: right;\">\n",
       "      <th></th>\n",
       "      <th>Index</th>\n",
       "      <th>Price</th>\n",
       "      <th>Production</th>\n",
       "      <th>Withdrawals</th>\n",
       "      <th>GlobalPrice</th>\n",
       "      <th>ExchangeRate</th>\n",
       "      <th>TempMax</th>\n",
       "      <th>TempAvg</th>\n",
       "      <th>Precipitation</th>\n",
       "    </tr>\n",
       "    <tr>\n",
       "      <th>Month</th>\n",
       "      <th></th>\n",
       "      <th></th>\n",
       "      <th></th>\n",
       "      <th></th>\n",
       "      <th></th>\n",
       "      <th></th>\n",
       "      <th></th>\n",
       "      <th></th>\n",
       "      <th></th>\n",
       "    </tr>\n",
       "  </thead>\n",
       "  <tbody>\n",
       "    <tr>\n",
       "      <th>2014-09-01</th>\n",
       "      <td>1</td>\n",
       "      <td>51.51</td>\n",
       "      <td>537770</td>\n",
       "      <td>1418420</td>\n",
       "      <td>0.1470</td>\n",
       "      <td>44.08</td>\n",
       "      <td>28</td>\n",
       "      <td>27</td>\n",
       "      <td>456.59</td>\n",
       "    </tr>\n",
       "    <tr>\n",
       "      <th>2014-10-01</th>\n",
       "      <td>2</td>\n",
       "      <td>51.46</td>\n",
       "      <td>1623075</td>\n",
       "      <td>1355836</td>\n",
       "      <td>0.1648</td>\n",
       "      <td>44.80</td>\n",
       "      <td>29</td>\n",
       "      <td>27</td>\n",
       "      <td>436.73</td>\n",
       "    </tr>\n",
       "    <tr>\n",
       "      <th>2014-11-01</th>\n",
       "      <td>3</td>\n",
       "      <td>51.28</td>\n",
       "      <td>2277043</td>\n",
       "      <td>2156729</td>\n",
       "      <td>0.1588</td>\n",
       "      <td>44.95</td>\n",
       "      <td>29</td>\n",
       "      <td>28</td>\n",
       "      <td>265.32</td>\n",
       "    </tr>\n",
       "    <tr>\n",
       "      <th>2014-12-01</th>\n",
       "      <td>4</td>\n",
       "      <td>51.65</td>\n",
       "      <td>2223994</td>\n",
       "      <td>1663150</td>\n",
       "      <td>0.1499</td>\n",
       "      <td>44.69</td>\n",
       "      <td>28</td>\n",
       "      <td>27</td>\n",
       "      <td>182.00</td>\n",
       "    </tr>\n",
       "    <tr>\n",
       "      <th>2015-01-01</th>\n",
       "      <td>5</td>\n",
       "      <td>51.19</td>\n",
       "      <td>2259613</td>\n",
       "      <td>1714490</td>\n",
       "      <td>0.1506</td>\n",
       "      <td>44.60</td>\n",
       "      <td>28</td>\n",
       "      <td>27</td>\n",
       "      <td>82.83</td>\n",
       "    </tr>\n",
       "    <tr>\n",
       "      <th>2015-02-01</th>\n",
       "      <td>6</td>\n",
       "      <td>51.25</td>\n",
       "      <td>3124172</td>\n",
       "      <td>1777931</td>\n",
       "      <td>0.1451</td>\n",
       "      <td>44.22</td>\n",
       "      <td>28</td>\n",
       "      <td>27</td>\n",
       "      <td>21.90</td>\n",
       "    </tr>\n",
       "    <tr>\n",
       "      <th>2015-03-01</th>\n",
       "      <td>7</td>\n",
       "      <td>51.15</td>\n",
       "      <td>3939203</td>\n",
       "      <td>2154934</td>\n",
       "      <td>0.1284</td>\n",
       "      <td>44.45</td>\n",
       "      <td>30</td>\n",
       "      <td>28</td>\n",
       "      <td>5.80</td>\n",
       "    </tr>\n",
       "    <tr>\n",
       "      <th>2015-04-01</th>\n",
       "      <td>8</td>\n",
       "      <td>51.95</td>\n",
       "      <td>2405134</td>\n",
       "      <td>1679034</td>\n",
       "      <td>0.1294</td>\n",
       "      <td>44.41</td>\n",
       "      <td>31</td>\n",
       "      <td>29</td>\n",
       "      <td>67.44</td>\n",
       "    </tr>\n",
       "    <tr>\n",
       "      <th>2015-05-01</th>\n",
       "      <td>9</td>\n",
       "      <td>52.88</td>\n",
       "      <td>1711529</td>\n",
       "      <td>2031509</td>\n",
       "      <td>0.1270</td>\n",
       "      <td>44.61</td>\n",
       "      <td>30</td>\n",
       "      <td>29</td>\n",
       "      <td>186.11</td>\n",
       "    </tr>\n",
       "    <tr>\n",
       "      <th>2015-06-01</th>\n",
       "      <td>10</td>\n",
       "      <td>53.79</td>\n",
       "      <td>972463</td>\n",
       "      <td>1243740</td>\n",
       "      <td>0.1177</td>\n",
       "      <td>44.98</td>\n",
       "      <td>30</td>\n",
       "      <td>28</td>\n",
       "      <td>474.53</td>\n",
       "    </tr>\n",
       "  </tbody>\n",
       "</table>\n",
       "</div>"
      ],
      "text/plain": [
       "            Index  Price  Production  Withdrawals  GlobalPrice  ExchangeRate  \\\n",
       "Month                                                                          \n",
       "2014-09-01      1  51.51      537770      1418420       0.1470         44.08   \n",
       "2014-10-01      2  51.46     1623075      1355836       0.1648         44.80   \n",
       "2014-11-01      3  51.28     2277043      2156729       0.1588         44.95   \n",
       "2014-12-01      4  51.65     2223994      1663150       0.1499         44.69   \n",
       "2015-01-01      5  51.19     2259613      1714490       0.1506         44.60   \n",
       "2015-02-01      6  51.25     3124172      1777931       0.1451         44.22   \n",
       "2015-03-01      7  51.15     3939203      2154934       0.1284         44.45   \n",
       "2015-04-01      8  51.95     2405134      1679034       0.1294         44.41   \n",
       "2015-05-01      9  52.88     1711529      2031509       0.1270         44.61   \n",
       "2015-06-01     10  53.79      972463      1243740       0.1177         44.98   \n",
       "\n",
       "            TempMax  TempAvg  Precipitation  \n",
       "Month                                        \n",
       "2014-09-01       28       27         456.59  \n",
       "2014-10-01       29       27         436.73  \n",
       "2014-11-01       29       28         265.32  \n",
       "2014-12-01       28       27         182.00  \n",
       "2015-01-01       28       27          82.83  \n",
       "2015-02-01       28       27          21.90  \n",
       "2015-03-01       30       28           5.80  \n",
       "2015-04-01       31       29          67.44  \n",
       "2015-05-01       30       29         186.11  \n",
       "2015-06-01       30       28         474.53  "
      ]
     },
     "execution_count": 43,
     "metadata": {},
     "output_type": "execute_result"
    }
   ],
   "source": [
    "data.head(10)"
   ]
  },
  {
   "cell_type": "markdown",
   "id": "d058f39f",
   "metadata": {},
   "source": [
    "#### Steps for ARIMAX\n",
    "1. The time series data must be stationary\n",
    "2. Provide a forecast for the exogeneous variables\n",
    "3. Train-Test split\n",
    "4. Error metric"
   ]
  },
  {
   "cell_type": "markdown",
   "id": "4a675795",
   "metadata": {},
   "source": [
    "Start by forecasting each variable using ARIMA\n"
   ]
  },
  {
   "cell_type": "markdown",
   "id": "4f55ba21",
   "metadata": {},
   "source": [
    "##### Price\n",
    "\n",
    "The price is going to be the dependent variable"
   ]
  },
  {
   "cell_type": "code",
   "execution_count": 44,
   "id": "8f0f3817",
   "metadata": {},
   "outputs": [
    {
     "data": {
      "text/plain": [
       "<Axes: xlabel='Month'>"
      ]
     },
     "execution_count": 44,
     "metadata": {},
     "output_type": "execute_result"
    },
    {
     "data": {
      "image/png": "[encoded data removed]",
      "text/plain": [
       "<Figure size 640x480 with 1 Axes>"
      ]
     },
     "metadata": {},
     "output_type": "display_data"
    }
   ],
   "source": [
    "data['Price'].plot()"
   ]
  },
  {
   "cell_type": "markdown",
   "id": "171757ec",
   "metadata": {},
   "source": [
    "Initial ADF Test"
   ]
  },
  {
   "cell_type": "code",
   "execution_count": 45,
   "id": "d4eb65f3",
   "metadata": {},
   "outputs": [],
   "source": [
    "def ADF_test(data):\n",
    "    p = adfuller(data)[1]\n",
    "    print (f'P-value: {p} < 0.05')\n",
    "    if p < 0.05:\n",
    "        print('Series is stationary')\n",
    "    else:\n",
    "        print('Series is not stationary')"
   ]
  },
  {
   "cell_type": "code",
   "execution_count": 46,
   "id": "f5bd8753",
   "metadata": {},
   "outputs": [
    {
     "name": "stdout",
     "output_type": "stream",
     "text": [
      "P-value: 0.663961545174224 < 0.05\n",
      "Series is not stationary\n"
     ]
    }
   ],
   "source": [
    "ADF_test(data['Price'])"
   ]
  },
  {
   "cell_type": "markdown",
   "id": "96a78b7b",
   "metadata": {},
   "source": [
    "Since the data is not stationary, Let's perform differencing"
   ]
  },
  {
   "cell_type": "code",
   "execution_count": 47,
   "id": "6bd376f3",
   "metadata": {},
   "outputs": [
    {
     "data": {
      "text/html": [
       "<div>\n",
       "<style scoped>\n",
       "    .dataframe tbody tr th:only-of-type {\n",
       "        vertical-align: middle;\n",
       "    }\n",
       "\n",
       "    .dataframe tbody tr th {\n",
       "        vertical-align: top;\n",
       "    }\n",
       "\n",
       "    .dataframe thead th {\n",
       "        text-align: right;\n",
       "    }\n",
       "</style>\n",
       "<table border=\"1\" class=\"dataframe\">\n",
       "  <thead>\n",
       "    <tr style=\"text-align: right;\">\n",
       "      <th></th>\n",
       "      <th>Price_diff</th>\n",
       "      <th>Price</th>\n",
       "    </tr>\n",
       "    <tr>\n",
       "      <th>Month</th>\n",
       "      <th></th>\n",
       "      <th></th>\n",
       "    </tr>\n",
       "  </thead>\n",
       "  <tbody>\n",
       "    <tr>\n",
       "      <th>2014-09-01</th>\n",
       "      <td>NaN</td>\n",
       "      <td>51.51</td>\n",
       "    </tr>\n",
       "    <tr>\n",
       "      <th>2014-10-01</th>\n",
       "      <td>-0.05</td>\n",
       "      <td>51.46</td>\n",
       "    </tr>\n",
       "    <tr>\n",
       "      <th>2014-11-01</th>\n",
       "      <td>-0.18</td>\n",
       "      <td>51.28</td>\n",
       "    </tr>\n",
       "    <tr>\n",
       "      <th>2014-12-01</th>\n",
       "      <td>0.37</td>\n",
       "      <td>51.65</td>\n",
       "    </tr>\n",
       "    <tr>\n",
       "      <th>2015-01-01</th>\n",
       "      <td>-0.46</td>\n",
       "      <td>51.19</td>\n",
       "    </tr>\n",
       "    <tr>\n",
       "      <th>2015-02-01</th>\n",
       "      <td>0.06</td>\n",
       "      <td>51.25</td>\n",
       "    </tr>\n",
       "    <tr>\n",
       "      <th>2015-03-01</th>\n",
       "      <td>-0.10</td>\n",
       "      <td>51.15</td>\n",
       "    </tr>\n",
       "    <tr>\n",
       "      <th>2015-04-01</th>\n",
       "      <td>0.80</td>\n",
       "      <td>51.95</td>\n",
       "    </tr>\n",
       "    <tr>\n",
       "      <th>2015-05-01</th>\n",
       "      <td>0.93</td>\n",
       "      <td>52.88</td>\n",
       "    </tr>\n",
       "    <tr>\n",
       "      <th>2015-06-01</th>\n",
       "      <td>0.91</td>\n",
       "      <td>53.79</td>\n",
       "    </tr>\n",
       "    <tr>\n",
       "      <th>2015-07-01</th>\n",
       "      <td>0.72</td>\n",
       "      <td>54.51</td>\n",
       "    </tr>\n",
       "    <tr>\n",
       "      <th>2015-08-01</th>\n",
       "      <td>0.16</td>\n",
       "      <td>54.67</td>\n",
       "    </tr>\n",
       "  </tbody>\n",
       "</table>\n",
       "</div>"
      ],
      "text/plain": [
       "            Price_diff  Price\n",
       "Month                        \n",
       "2014-09-01         NaN  51.51\n",
       "2014-10-01       -0.05  51.46\n",
       "2014-11-01       -0.18  51.28\n",
       "2014-12-01        0.37  51.65\n",
       "2015-01-01       -0.46  51.19\n",
       "2015-02-01        0.06  51.25\n",
       "2015-03-01       -0.10  51.15\n",
       "2015-04-01        0.80  51.95\n",
       "2015-05-01        0.93  52.88\n",
       "2015-06-01        0.91  53.79\n",
       "2015-07-01        0.72  54.51\n",
       "2015-08-01        0.16  54.67"
      ]
     },
     "execution_count": 47,
     "metadata": {},
     "output_type": "execute_result"
    }
   ],
   "source": [
    "data['Price_diff'] = data['Price'].diff()\n",
    "data['Price_diff'].dropna()\n",
    "\n",
    "data_2 = data[['Price_diff' ,'Price']]\n",
    "data_2.head(12)"
   ]
  },
  {
   "cell_type": "markdown",
   "id": "9f26e9ab",
   "metadata": {},
   "source": [
    "**How Differencing works**\n",
    "\n",
    "differenced_month = month_1 - month_2\n",
    "difference = {2014-09} - {2014-10}\n",
    "difference = 51.51 - "
   ]
  },
  {
   "cell_type": "markdown",
   "id": "b775f478",
   "metadata": {},
   "source": [
    "Look at the behaviour of the Price after differencing"
   ]
  },
  {
   "cell_type": "code",
   "execution_count": 48,
   "id": "216130d0",
   "metadata": {},
   "outputs": [
    {
     "data": {
      "text/plain": [
       "<Axes: xlabel='Month'>"
      ]
     },
     "execution_count": 48,
     "metadata": {},
     "output_type": "execute_result"
    },
    {
     "data": {
      "image/png": "[encoded data removed]",
      "text/plain": [
       "<Figure size 640x480 with 1 Axes>"
      ]
     },
     "metadata": {},
     "output_type": "display_data"
    }
   ],
   "source": [
    "data['Price_diff'].plot()"
   ]
  },
  {
   "cell_type": "code",
   "execution_count": 50,
   "id": "8a7a45b3",
   "metadata": {},
   "outputs": [
    {
     "name": "stdout",
     "output_type": "stream",
     "text": [
      "P-value: 5.67356265349366e-06 < 0.05\n",
      "Series is stationary\n"
     ]
    }
   ],
   "source": [
    "ADF_test(data['Price_diff'].dropna())"
   ]
  }
 ],
 "metadata": {
  "kernelspec": {
   "display_name": "Python 3",
   "language": "python",
   "name": "python3"
  },
  "language_info": {
   "codemirror_mode": {
    "name": "ipython",
    "version": 3
   },
   "file_extension": ".py",
   "mimetype": "text/x-python",
   "name": "python",
   "nbconvert_exporter": "python",
   "pygments_lexer": "ipython3",
   "version": "3.12.6"
  }
 },
 "nbformat": 4,
 "nbformat_minor": 5
}
